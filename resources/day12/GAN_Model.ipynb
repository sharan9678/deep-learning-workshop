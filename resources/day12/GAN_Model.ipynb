{
  "nbformat": 4,
  "nbformat_minor": 0,
  "metadata": {
    "colab": {
      "name": "GAN Model.ipynb",
      "provenance": [],
      "collapsed_sections": []
    },
    "kernelspec": {
      "name": "python3",
      "display_name": "Python 3"
    },
    "language_info": {
      "name": "python"
    },
    "accelerator": "GPU"
  },
  "cells": [
    {
      "cell_type": "code",
      "source": [
        "# To get access to GPU by tensorflow and use it \n",
        "import tensorflow as tf\n",
        "device_name = tf.test.gpu_device_name()\n",
        "if device_name != '/device:GPU:0':\n",
        "  raise SystemError('GPU device not found')\n",
        "print('Found GPU at: {}'.format(device_name))"
      ],
      "metadata": {
        "colab": {
          "base_uri": "https://localhost:8080/"
        },
        "id": "x07gUKCDxvy0",
        "outputId": "7e3e0082-eb05-4c62-d735-f60704580b51"
      },
      "execution_count": null,
      "outputs": [
        {
          "output_type": "stream",
          "name": "stdout",
          "text": [
            "Found GPU at: /device:GPU:0\n"
          ]
        }
      ]
    },
    {
      "cell_type": "code",
      "source": [
        "import keras\n",
        "from keras.layers import Dense, Conv2DTranspose, LeakyReLU, Reshape, BatchNormalization, Activation, Conv2D\n",
        "from keras.models import Model, Sequential"
      ],
      "metadata": {
        "id": "zxGUAkzFxy8y"
      },
      "execution_count": null,
      "outputs": []
    },
    {
      "cell_type": "code",
      "source": [
        " #  to define the structure of generator model \n",
        "def generator_from_images():      \n",
        "\n",
        "    generator = Sequential()\n",
        "\n",
        "    generator.add(Dense(256*4*4, input_shape = (100,)))  #input_size = img_rows * img_cols * colors\n",
        "    #generator.add(BatchNormalization())\n",
        "    generator.add(LeakyReLU())\n",
        "    generator.add(Reshape((4,4,256)))\n",
        "\n",
        "    generator.add(Conv2DTranspose(128,kernel_size=3, strides=2, padding = \"same\"))\n",
        "    #generator.add(BatchNormalization())\n",
        "    generator.add(LeakyReLU(alpha=0.2))\n",
        "\n",
        "\n",
        "    generator.add(Conv2DTranspose(128,kernel_size=3, strides=2, padding = \"same\"))\n",
        "    #generator.add(BatchNormalization())\n",
        "    generator.add(LeakyReLU(alpha=0.2))\n",
        "\n",
        "    generator.add(Conv2DTranspose(128,kernel_size=3, strides=2, padding = \"same\"))\n",
        "    #generator.add(BatchNormalization())\n",
        "    generator.add(LeakyReLU(alpha=0.2))\n",
        "\n",
        "    generator.add(Conv2D(3,kernel_size=3, padding = \"same\", activation='tanh'))\n",
        "\n",
        "    return(generator)\n",
        "\n",
        "model_generator = generator_from_images()\n",
        "\n",
        "model_generator.summary()\n",
        "\n",
        "#structure of the generative network. Let’s check if its working\n",
        "\n"
      ],
      "metadata": {
        "colab": {
          "base_uri": "https://localhost:8080/"
        },
        "id": "eJbuKZz3guEV",
        "outputId": "c5f1e949-c8ad-4fb1-bdba-2153940b0fdc"
      },
      "execution_count": null,
      "outputs": [
        {
          "output_type": "stream",
          "name": "stdout",
          "text": [
            "Model: \"sequential_6\"\n",
            "_________________________________________________________________\n",
            " Layer (type)                Output Shape              Param #   \n",
            "=================================================================\n",
            " dense_4 (Dense)             (None, 4096)              413696    \n",
            "                                                                 \n",
            " leaky_re_lu_16 (LeakyReLU)  (None, 4096)              0         \n",
            "                                                                 \n",
            " reshape_3 (Reshape)         (None, 4, 4, 256)         0         \n",
            "                                                                 \n",
            " conv2d_transpose_9 (Conv2DT  (None, 8, 8, 128)        295040    \n",
            " ranspose)                                                       \n",
            "                                                                 \n",
            " leaky_re_lu_17 (LeakyReLU)  (None, 8, 8, 128)         0         \n",
            "                                                                 \n",
            " conv2d_transpose_10 (Conv2D  (None, 16, 16, 128)      147584    \n",
            " Transpose)                                                      \n",
            "                                                                 \n",
            " leaky_re_lu_18 (LeakyReLU)  (None, 16, 16, 128)       0         \n",
            "                                                                 \n",
            " conv2d_transpose_11 (Conv2D  (None, 32, 32, 128)      147584    \n",
            " Transpose)                                                      \n",
            "                                                                 \n",
            " leaky_re_lu_19 (LeakyReLU)  (None, 32, 32, 128)       0         \n",
            "                                                                 \n",
            " conv2d_7 (Conv2D)           (None, 32, 32, 3)         3459      \n",
            "                                                                 \n",
            "=================================================================\n",
            "Total params: 1,007,363\n",
            "Trainable params: 1,007,363\n",
            "Non-trainable params: 0\n",
            "_________________________________________________________________\n"
          ]
        }
      ]
    },
    {
      "cell_type": "code",
      "source": [
        "#Checking if the generative network works\n",
        "#As the network is not trained yet, it should generate random images.\n",
        "\n",
        "import matplotlib.pyplot as plt\n",
        "import numpy as np\n",
        "\n",
        "\n",
        "def generate_input_data(n_samples):\n",
        " X = np.random.randn(100 * n_samples)\n",
        " X = X.reshape(n_samples, 100)\n",
        " return X\n",
        "\n",
        "def create_fake_data(modelo_generador, n_samples):\n",
        " input = generate_input_data(n_samples)\n",
        " X = modelo_generador.predict(input)\n",
        " y = np.zeros((n_samples, 1))\n",
        " return X,y\n",
        "n_samples = 4\n",
        "X,_ = create_fake_data(model_generator, n_samples)\n",
        "\n",
        "\n",
        "# Visualizamos resultados\n",
        "for i in range(n_samples):\n",
        "    plt.subplot(2, 2, 1 + i)\n",
        "    plt.axis('off')\n",
        "    plt.imshow(X[i])\n"
      ],
      "metadata": {
        "colab": {
          "base_uri": "https://localhost:8080/",
          "height": 317
        },
        "id": "x-M9H_3WhBc7",
        "outputId": "b0b3c55f-504e-4cff-de74-ff5e796999d2"
      },
      "execution_count": null,
      "outputs": [
        {
          "output_type": "stream",
          "name": "stderr",
          "text": [
            "Clipping input data to the valid range for imshow with RGB data ([0..1] for floats or [0..255] for integers).\n",
            "Clipping input data to the valid range for imshow with RGB data ([0..1] for floats or [0..255] for integers).\n",
            "Clipping input data to the valid range for imshow with RGB data ([0..1] for floats or [0..255] for integers).\n",
            "Clipping input data to the valid range for imshow with RGB data ([0..1] for floats or [0..255] for integers).\n"
          ]
        },
        {
          "output_type": "display_data",
          "data": {
            "text/plain": [
              "<Figure size 432x288 with 4 Axes>"
            ],
            "image/png": "[encoded data removed]"
          },
          "metadata": {
            "needs_background": "light"
          }
        }
      ]
    },
    {
      "cell_type": "markdown",
      "source": [
        "import matplotlib.pyplot as plt\n",
        "import numpy as np\n",
        "\n",
        "def create_fake_data(modelo_generador, n_samples):\n",
        " input = generate_input_data(n_samples)\n",
        " X = modelo_generador.predict(input)\n",
        " y = np.zeros((n_samples, 1))\n",
        " return X,y\n",
        " n_samples = 4\n",
        "X,_ = create_fake_data(model_generador, n_samples)\n"
      ],
      "metadata": {
        "id": "NkLgY7GkbmqG"
      }
    },
    {
      "cell_type": "code",
      "source": [
        "from tensorflow.keras.optimizers import Adam\n",
        "#from tensorflow import keras\n",
        "from keras.layers import Conv2D, Flatten, Dropout\n",
        "#from keras.optimizers import Adam\n",
        "\n",
        "\n",
        "def discriminador_de_imagenes():\n",
        "\n",
        "    discriminador = Sequential()\n",
        "    discriminador.add(Conv2D(64, kernel_size=3, padding = \"same\", input_shape = (32,32,3)))\n",
        "    discriminador.add(LeakyReLU(alpha=0.2))\n",
        "    #discriminador.add(Dropout(0.2))\n",
        "\n",
        "    discriminador.add(Conv2D(128, kernel_size=3,strides=(2,2), padding = \"same\"))\n",
        "    discriminador.add(LeakyReLU(alpha=0.2))\n",
        "    #discriminador.add(Dropout(0.2))\n",
        "\n",
        "    discriminador.add(Conv2D(128, kernel_size=3,strides=(2,2), padding = \"same\"))\n",
        "    discriminador.add(LeakyReLU(alpha=0.2))\n",
        "    #discriminador.add(Dropout(0.2))\n",
        "\n",
        "    discriminador.add(Conv2D(256, kernel_size=3, strides=(2,2), padding = \"same\"))\n",
        "    discriminador.add(LeakyReLU(alpha=0.2))\n",
        "    #discriminador.add(Dropout(0.2))\n",
        "\n",
        "    discriminador.add(Flatten())\n",
        "    discriminador.add(Dropout(0.4))\n",
        "    discriminador.add(Dense(1, activation='sigmoid'))\n",
        "\n",
        "    opt = Adam(lr=0.0002 ,beta_1=0.5)\n",
        "    discriminador.compile(loss='binary_crossentropy', optimizer= 'adam' , metrics = ['accuracy'])\n",
        "\n",
        "    return(discriminador)\n",
        "\n",
        "modelo_discriminador = discriminador_de_imagenes()\n",
        "modelo_discriminador.summary()"
      ],
      "metadata": {
        "colab": {
          "base_uri": "https://localhost:8080/"
        },
        "id": "4KiVHZcPhPa7",
        "outputId": "4b87420b-6aab-485d-9dda-93182b187539"
      },
      "execution_count": null,
      "outputs": [
        {
          "output_type": "stream",
          "name": "stdout",
          "text": [
            "Model: \"sequential_7\"\n",
            "_________________________________________________________________\n",
            " Layer (type)                Output Shape              Param #   \n",
            "=================================================================\n",
            " conv2d_8 (Conv2D)           (None, 32, 32, 64)        1792      \n",
            "                                                                 \n",
            " leaky_re_lu_20 (LeakyReLU)  (None, 32, 32, 64)        0         \n",
            "                                                                 \n",
            " conv2d_9 (Conv2D)           (None, 16, 16, 128)       73856     \n",
            "                                                                 \n",
            " leaky_re_lu_21 (LeakyReLU)  (None, 16, 16, 128)       0         \n",
            "                                                                 \n",
            " conv2d_10 (Conv2D)          (None, 8, 8, 128)         147584    \n",
            "                                                                 \n",
            " leaky_re_lu_22 (LeakyReLU)  (None, 8, 8, 128)         0         \n",
            "                                                                 \n",
            " conv2d_11 (Conv2D)          (None, 4, 4, 256)         295168    \n",
            "                                                                 \n",
            " leaky_re_lu_23 (LeakyReLU)  (None, 4, 4, 256)         0         \n",
            "                                                                 \n",
            " flatten_1 (Flatten)         (None, 4096)              0         \n",
            "                                                                 \n",
            " dropout_1 (Dropout)         (None, 4096)              0         \n",
            "                                                                 \n",
            " dense_5 (Dense)             (None, 1)                 4097      \n",
            "                                                                 \n",
            "=================================================================\n",
            "Total params: 522,497\n",
            "Trainable params: 522,497\n",
            "Non-trainable params: 0\n",
            "_________________________________________________________________\n"
          ]
        },
        {
          "output_type": "stream",
          "name": "stderr",
          "text": [
            "/usr/local/lib/python3.7/dist-packages/keras/optimizer_v2/adam.py:105: UserWarning: The `lr` argument is deprecated, use `learning_rate` instead.\n",
            "  super(Adam, self).__init__(name, **kwargs)\n"
          ]
        }
      ]
    },
    {
      "cell_type": "code",
      "source": [
        "\n",
        "#Load data from Cifar10\n",
        "\n",
        "from keras.datasets import cifar10\n",
        "\n",
        "def cargar_imagenes():\n",
        "    (Xtrain, Ytrain), (_, _) = cifar10.load_data()\n",
        "\n",
        "    \n",
        "    indice = np.where(Ytrain == 0)\n",
        "    indice = indice[0]\n",
        "    Xtrain = Xtrain[indice, :,:,:]\n",
        "\n",
        "    # Normalizamos loss\n",
        "    X = Xtrain.astype('float32')\n",
        "    X = (X - 127.5) / 127.5\n",
        "\n",
        "    return X\n",
        "\n",
        "print(cargar_imagenes().shape)"
      ],
      "metadata": {
        "colab": {
          "base_uri": "https://localhost:8080/"
        },
        "id": "TbJd2vnKjGcU",
        "outputId": "d90ca9c5-0165-4ac6-ab33-8846c3bf0641"
      },
      "execution_count": null,
      "outputs": [
        {
          "output_type": "stream",
          "name": "stdout",
          "text": [
            "(5000, 32, 32, 3)\n"
          ]
        }
      ]
    },
    {
      "cell_type": "code",
      "source": [
        "#functions for Training the discriminator network  with both real and fake images \n",
        "\n",
        "import random\n",
        "\n",
        "def cargar_datos_reales(dataset, n_muestras):\n",
        "  ix = np.random.randint(0, dataset.shape[0], n_muestras)\n",
        "  X = dataset[ix]\n",
        "  y = np.ones((n_muestras, 1))\n",
        "  return X,y\n",
        "\n",
        "def cargar_datos_fake(n_muestras):\n",
        "  X = np.random.rand(32 * 32 * 3 * n_muestras)\n",
        "  X = -1 + X * 2\n",
        "  X = X.reshape((n_muestras, 32,32,3))\n",
        "  y = np.zeros((n_muestras, 1))\n",
        "  return X,y"
      ],
      "metadata": {
        "id": "Y0YcT7sNjNK7"
      },
      "execution_count": null,
      "outputs": []
    },
    {
      "cell_type": "code",
      "source": [
        "#For training, we will pass half of the fake data and the other half of the real data. \n",
        "#Hence we calculate the medio_batch:\n",
        "def entrenar_discriminador(modelo, dataset, n_iteraciones=20, batch = 128):\n",
        "  medio_batch = int(batch/2)\n",
        "\n",
        "  for i in range(n_iteraciones):\n",
        "    X_real, y_real = cargar_datos_reales(dataset, medio_batch)\n",
        "    _, acc_real = modelo.train_on_batch(X_real, y_real)\n",
        "\n",
        "    X_fake, y_fake = cargar_datos_fake(medio_batch)\n",
        "    _, acc_fake = modelo.train_on_batch(X_fake, y_fake)\n",
        "\n",
        "    print(str(i+1) + ' Real:' + str(acc_real*100) + ', Fake:' + str(acc_fake*100))"
      ],
      "metadata": {
        "id": "drD_RaBdjPMr"
      },
      "execution_count": null,
      "outputs": []
    },
    {
      "cell_type": "code",
      "source": [
        "#Now that we have all our pieces, we have to put them together to train our discriminator network\n",
        "dataset = cargar_imagenes()\n",
        "entrenar_discriminador(modelo_discriminador, dataset)"
      ],
      "metadata": {
        "colab": {
          "base_uri": "https://localhost:8080/"
        },
        "id": "3GIS-WHBjTZU",
        "outputId": "a3e56700-7ad6-42b4-dd9e-9d317d2d9102"
      },
      "execution_count": null,
      "outputs": [
        {
          "output_type": "stream",
          "name": "stdout",
          "text": [
            "1 Real:54.6875, Fake:0.0\n",
            "2 Real:100.0, Fake:0.0\n",
            "3 Real:96.875, Fake:59.375\n",
            "4 Real:95.3125, Fake:100.0\n",
            "5 Real:92.1875, Fake:100.0\n",
            "6 Real:87.5, Fake:100.0\n",
            "7 Real:92.1875, Fake:100.0\n",
            "8 Real:92.1875, Fake:100.0\n",
            "9 Real:98.4375, Fake:100.0\n",
            "10 Real:100.0, Fake:100.0\n",
            "11 Real:100.0, Fake:100.0\n",
            "12 Real:100.0, Fake:100.0\n",
            "13 Real:100.0, Fake:100.0\n",
            "14 Real:100.0, Fake:100.0\n",
            "15 Real:100.0, Fake:100.0\n",
            "16 Real:100.0, Fake:100.0\n",
            "17 Real:100.0, Fake:100.0\n",
            "18 Real:100.0, Fake:100.0\n",
            "19 Real:100.0, Fake:100.0\n",
            "20 Real:100.0, Fake:100.0\n"
          ]
        }
      ]
    },
    {
      "cell_type": "code",
      "source": [
        "#Coding our generative adversarial network\n",
        "def create_gan(discriminador, generator):\n",
        "    discriminador.trainable=False\n",
        "    gan = Sequential()\n",
        "    gan.add(generator)\n",
        "    gan.add(discriminador)\n",
        "\n",
        "    opt = Adam(lr=0.0002,beta_1=0.5) \n",
        "    gan.compile(loss = \"binary_crossentropy\", optimizer = opt)\n",
        "\n",
        "    return gan\n",
        "\n",
        "gan = create_gan(modelo_discriminador,modelo_generador)\n",
        "gan.summary()"
      ],
      "metadata": {
        "colab": {
          "base_uri": "https://localhost:8080/"
        },
        "id": "u2n6cyJ3jizB",
        "outputId": "15521205-b4f2-4d4b-85be-60e4ba42b6a5"
      },
      "execution_count": null,
      "outputs": [
        {
          "output_type": "stream",
          "name": "stdout",
          "text": [
            "Model: \"sequential_8\"\n",
            "_________________________________________________________________\n",
            " Layer (type)                Output Shape              Param #   \n",
            "=================================================================\n",
            " sequential_1 (Sequential)   (None, 32, 32, 3)         1007363   \n",
            "                                                                 \n",
            " sequential_7 (Sequential)   (None, 1)                 522497    \n",
            "                                                                 \n",
            "=================================================================\n",
            "Total params: 1,529,860\n",
            "Trainable params: 1,007,363\n",
            "Non-trainable params: 522,497\n",
            "_________________________________________________________________\n"
          ]
        },
        {
          "output_type": "stream",
          "name": "stderr",
          "text": [
            "/usr/local/lib/python3.7/dist-packages/keras/optimizer_v2/adam.py:105: UserWarning: The `lr` argument is deprecated, use `learning_rate` instead.\n",
            "  super(Adam, self).__init__(name, **kwargs)\n"
          ]
        }
      ]
    },
    {
      "cell_type": "code",
      "source": [
        "#Model evaluation and image generation functions\n",
        "\n",
        "import pandas as pd\n",
        "import matplotlib.pyplot as plt\n",
        "%matplotlib inline\n",
        "from datetime import datetime\n",
        "\n",
        "def mostrar_imagenes_generadas(datos_fake, epoch):\n",
        "\n",
        "  now = datetime.now()\n",
        "  now = now.strftime(\"%Y%m%d_%H%M%S\")\n",
        "\n",
        "  # Hacemos que los datos vayan de 0 a 1\n",
        "  datos_fake = (datos_fake + 1) / 2.0\n",
        "\n",
        "  for i in range(10):\n",
        "    plt.imshow(datos_fake[i])\n",
        "    plt.axis('off')\n",
        "    nombre = str(epoch) + '_imagen_generada_' + str(i) + '.png'\n",
        "    plt.savefig(nombre, bbox_inches='tight')\n",
        "    plt.close()"
      ],
      "metadata": {
        "id": "hIEO9BjsjqE_"
      },
      "execution_count": null,
      "outputs": []
    },
    {
      "cell_type": "code",
      "source": [
        "def evaluar_y_guardar(modelo_generador, epoch, medio_dataset):\n",
        "\n",
        "  # We save the model\n",
        "  now = datetime.now()\n",
        "  now = now.strftime(\"%Y%m%d_%H%M%S\")\n",
        "  nombre = str(epoch) + '_' + str(now)+\"_modelo_generador_\" + '.h5'\n",
        "  modelo_generador.save(nombre)\n",
        "\n",
        "  # We generate new data\n",
        "  X_real,Y_real = cargar_datos_reales(dataset, medio_dataset)\n",
        "  X_fake, Y_fake =  crear_datos_fake(modelo_generador,medio_dataset)\n",
        "\n",
        "  # We evaluate the model\n",
        "  _, acc_real = modelo_discriminador.evaluate(X_real, Y_real)\n",
        "  _, acc_fake = modelo_discriminador.evaluate(X_fake, Y_fake)\n",
        "\n",
        "  print('Acc Real:' + str(acc_real*100) + '% Acc Fake:' + str(acc_fake*100)+'%')"
      ],
      "metadata": {
        "id": "2HKsc46Ejwy4"
      },
      "execution_count": null,
      "outputs": []
    },
    {
      "cell_type": "code",
      "source": [
        "#create the training function\n",
        "def entrenamiento(datos, modelo_generador, modelo_discriminador, epochs, n_batch, inicio = 0):\n",
        "  dimension_batch = int(datos.shape[0]/n_batch)\n",
        "  medio_dataset = int(n_batch/2)\n",
        "\n",
        "  # We iterate over the epochs\n",
        "  for epoch in range(inicio, inicio + epochs):\n",
        "    # We iterate over all batches\n",
        "    for batch in range(n_batch):\n",
        "\n",
        "      # We load all the real data\n",
        "      X_real,Y_real = cargar_datos_reales(dataset, medio_dataset)\n",
        "\n",
        "\n",
        "      # We train the discriminator withEnrenamos discriminador con datos reales\n",
        "      coste_discriminador_real, _ = modelo_discriminador.train_on_batch(X_real, Y_real)\n",
        "      X_fake, Y_fake =  crear_datos_fake(model_generator,medio_dataset)\n",
        "\n",
        "      coste_discriminador_fake, _ = modelo_discriminador.train_on_batch(X_fake, Y_fake)\n",
        "\n",
        "      # We generate input images for the GAN\n",
        "      X_gan = generar_datos_entrada(medio_dataset)\n",
        "      Y_gan = np.ones((medio_dataset, 1))\n",
        "\n",
        "      # We train the GAN with fake data\n",
        "      coste_gan = gan.train_on_batch(X_gan, Y_gan)\n",
        "\n",
        "    # Every 10 epochs we show the results and cost \n",
        "    if (epoch+1) % 10 == 0:\n",
        "      evaluar_y_guardar(model_generator,epoch = epoch, medio_dataset= medio_dataset)\n",
        "      mostrar_imagenes_generadas(X_fake, epoch = epoch)"
      ],
      "metadata": {
        "id": "65nAw4thj4HT"
      },
      "execution_count": null,
      "outputs": []
    },
    {
      "cell_type": "code",
      "source": [
        "#With this, let’s see if the GAN works!\n",
        "entrenamiento(dataset, model_generator, modelo_discriminador, epochs = 10, n_batch=128, inicio = 0)"
      ],
      "metadata": {
        "colab": {
          "base_uri": "https://localhost:8080/",
          "height": 201
        },
        "id": "lHIdaBktj-7l",
        "outputId": "2557da29-37e8-4c2b-cc0f-240064e463a1"
      },
      "execution_count": null,
      "outputs": [
        {
          "output_type": "error",
          "ename": "NameError",
          "evalue": "ignored",
          "traceback": [
            "\u001b[0;31m---------------------------------------------------------------------------\u001b[0m",
            "\u001b[0;31mNameError\u001b[0m                                 Traceback (most recent call last)",
            "\u001b[0;32m<ipython-input-2-392fb7ea7484>\u001b[0m in \u001b[0;36m<module>\u001b[0;34m()\u001b[0m\n\u001b[1;32m      1\u001b[0m \u001b[0;31m#With this, let’s see if the GAN works!\u001b[0m\u001b[0;34m\u001b[0m\u001b[0;34m\u001b[0m\u001b[0;34m\u001b[0m\u001b[0m\n\u001b[0;32m----> 2\u001b[0;31m \u001b[0mentrenamiento\u001b[0m\u001b[0;34m(\u001b[0m\u001b[0mdataset\u001b[0m\u001b[0;34m,\u001b[0m \u001b[0mmodel_generator\u001b[0m\u001b[0;34m,\u001b[0m \u001b[0mmodelo_discriminador\u001b[0m\u001b[0;34m,\u001b[0m \u001b[0mepochs\u001b[0m \u001b[0;34m=\u001b[0m \u001b[0;36m10\u001b[0m\u001b[0;34m,\u001b[0m \u001b[0mn_batch\u001b[0m\u001b[0;34m=\u001b[0m\u001b[0;36m128\u001b[0m\u001b[0;34m,\u001b[0m \u001b[0minicio\u001b[0m \u001b[0;34m=\u001b[0m \u001b[0;36m0\u001b[0m\u001b[0;34m)\u001b[0m\u001b[0;34m\u001b[0m\u001b[0;34m\u001b[0m\u001b[0m\n\u001b[0m",
            "\u001b[0;31mNameError\u001b[0m: name 'entrenamiento' is not defined"
          ]
        }
      ]
    },
    {
      "cell_type": "code",
      "source": [
        "#Done! We have just learned to code a GAN in Python and we have just train it! Let’s see how the images it has generate are!\n",
        "\n",
        "X_fake, _ = crear_datos_fake(n_muestras=49, modelo_generador=modelo_generador)\n",
        "X_fake = (X_fake+1)/2\n",
        "\n",
        "for i in range(49):\n",
        "  plt.subplot(7,7,i+1)\n",
        "  plt.axis('off')\n",
        "  plt.imshow(X_fake[i])"
      ],
      "metadata": {
        "id": "fwUkXv5dkIJV"
      },
      "execution_count": null,
      "outputs": []
    }
  ]
}