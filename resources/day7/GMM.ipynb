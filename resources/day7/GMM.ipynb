{
  "nbformat": 4,
  "nbformat_minor": 0,
  "metadata": {
    "colab": {
      "name": "GMM.ipynb",
      "provenance": [],
      "collapsed_sections": []
    },
    "kernelspec": {
      "name": "python3",
      "display_name": "Python 3"
    },
    "language_info": {
      "name": "python"
    }
  },
  "cells": [
    {
      "cell_type": "code",
      "source": [
        "from google.colab import drive\n",
        "drive.mount('/content/drive')"
      ],
      "metadata": {
        "colab": {
          "base_uri": "https://localhost:8080/"
        },
        "id": "LJNgrEB7Iqh4",
        "outputId": "ecf4bdf1-8f80-40d6-f5d6-1cb2930a487c"
      },
      "execution_count": 2,
      "outputs": [
        {
          "output_type": "stream",
          "name": "stdout",
          "text": [
            "Drive already mounted at /content/drive; to attempt to forcibly remount, call drive.mount(\"/content/drive\", force_remount=True).\n"
          ]
        }
      ]
    },
    {
      "cell_type": "code",
      "source": [
        "import numpy as np\n",
        "import pandas as pd\n",
        "from sklearn.cluster import KMeans\n",
        "from sklearn.mixture import GaussianMixture\n",
        "from sklearn.metrics import accuracy_score"
      ],
      "metadata": {
        "id": "8MYFX07CIv4-"
      },
      "execution_count": 3,
      "outputs": []
    },
    {
      "cell_type": "code",
      "source": [
        "data=pd.read_csv('/content/drive/MyDrive/burger-king-items.txt',sep='\\t')\n",
        "data"
      ],
      "metadata": {
        "colab": {
          "base_uri": "https://localhost:8080/",
          "height": 488
        },
        "id": "LL3YMyE1JhVJ",
        "outputId": "308392a1-9a17-4252-ed85-9df5ef49e9e0"
      },
      "execution_count": 6,
      "outputs": [
        {
          "output_type": "execute_result",
          "data": {
            "text/plain": [
              "                           Item  Serving.size  Calories  Fat.Cal  Protein(g)  \\\n",
              "0                  Cheeseburger         121.0       300    130.0          16   \n",
              "1              Double_Hamburger         146.0       360    160.0          22   \n",
              "2           Double_Cheeseburger         171.0       450    230.0          26   \n",
              "3                   Buck_Double         158.0       410    200.0          24   \n",
              "4            Rodeo_Cheeseburger         128.0       350    160.0          16   \n",
              "..                          ...           ...       ...      ...         ...   \n",
              "116            FatFREEMilk(8oz)           NaN        90      0.0           9   \n",
              "117  1%LowFatChocolateMilk(8oz)           NaN       160     25.0           8   \n",
              "118     VanillaMilkShake12fl oz           NaN       350    100.0           8   \n",
              "119   ChocolateMilkShake12fl oz           NaN       400    100.0           8   \n",
              "120  StrawberryMilkShake12fl oz           NaN       390    100.0           8   \n",
              "\n",
              "     Fat(g)  Sat.Fat(g)  Trans.fat(g)  Chol(mg)  Sodium(mg)  ...   0  35  490  \\\n",
              "0      14.0         6.0           0.0        45         710  ... NaN NaN  NaN   \n",
              "1      18.0         8.0           0.0        70         520  ... NaN NaN  NaN   \n",
              "2      26.0        12.0           1.0        95         960  ... NaN NaN  NaN   \n",
              "3      22.0        10.0           0.5        85         740  ... NaN NaN  NaN   \n",
              "4      17.0         7.0           0.0        45         600  ... NaN NaN  NaN   \n",
              "..      ...         ...           ...       ...         ...  ...  ..  ..  ...   \n",
              "116     0.0         0.0           0.0         5         125  ... NaN NaN  NaN   \n",
              "117     2.5         1.5           0.0        15         150  ... NaN NaN  NaN   \n",
              "118    11.0         8.0           0.0        40         290  ... NaN NaN  NaN   \n",
              "119    11.0         8.0           0.0        40         330  ... NaN NaN  NaN   \n",
              "120    11.0         8.0           0.0        40         290  ... NaN NaN  NaN   \n",
              "\n",
              "     28   1   6  1.1  0.1  1.2  28.1  \n",
              "0   NaN NaN NaN  NaN  NaN  NaN   NaN  \n",
              "1   NaN NaN NaN  NaN  NaN  NaN   NaN  \n",
              "2   NaN NaN NaN  NaN  NaN  NaN   NaN  \n",
              "3   NaN NaN NaN  NaN  NaN  NaN   NaN  \n",
              "4   NaN NaN NaN  NaN  NaN  NaN   NaN  \n",
              "..   ..  ..  ..  ...  ...  ...   ...  \n",
              "116 NaN NaN NaN  NaN  NaN  NaN   NaN  \n",
              "117 NaN NaN NaN  NaN  NaN  NaN   NaN  \n",
              "118 NaN NaN NaN  NaN  NaN  NaN   NaN  \n",
              "119 NaN NaN NaN  NaN  NaN  NaN   NaN  \n",
              "120 NaN NaN NaN  NaN  NaN  NaN   NaN  \n",
              "\n",
              "[121 rows x 33 columns]"
            ],
            "text/html": [
              "\n",
              "  <div id=\"df-cb5a61c8-7f6d-409f-be4a-0bb763cd10c6\">\n",
              "    <div class=\"colab-df-container\">\n",
              "      <div>\n",
              "<style scoped>\n",
              "    .dataframe tbody tr th:only-of-type {\n",
              "        vertical-align: middle;\n",
              "    }\n",
              "\n",
              "    .dataframe tbody tr th {\n",
              "        vertical-align: top;\n",
              "    }\n",
              "\n",
              "    .dataframe thead th {\n",
              "        text-align: right;\n",
              "    }\n",
              "</style>\n",
              "<table border=\"1\" class=\"dataframe\">\n",
              "  <thead>\n",
              "    <tr style=\"text-align: right;\">\n",
              "      <th></th>\n",
              "      <th>Item</th>\n",
              "      <th>Serving.size</th>\n",
              "      <th>Calories</th>\n",
              "      <th>Fat.Cal</th>\n",
              "      <th>Protein(g)</th>\n",
              "      <th>Fat(g)</th>\n",
              "      <th>Sat.Fat(g)</th>\n",
              "      <th>Trans.fat(g)</th>\n",
              "      <th>Chol(mg)</th>\n",
              "      <th>Sodium(mg)</th>\n",
              "      <th>...</th>\n",
              "      <th>0</th>\n",
              "      <th>35</th>\n",
              "      <th>490</th>\n",
              "      <th>28</th>\n",
              "      <th>1</th>\n",
              "      <th>6</th>\n",
              "      <th>1.1</th>\n",
              "      <th>0.1</th>\n",
              "      <th>1.2</th>\n",
              "      <th>28.1</th>\n",
              "    </tr>\n",
              "  </thead>\n",
              "  <tbody>\n",
              "    <tr>\n",
              "      <th>0</th>\n",
              "      <td>Cheeseburger</td>\n",
              "      <td>121.0</td>\n",
              "      <td>300</td>\n",
              "      <td>130.0</td>\n",
              "      <td>16</td>\n",
              "      <td>14.0</td>\n",
              "      <td>6.0</td>\n",
              "      <td>0.0</td>\n",
              "      <td>45</td>\n",
              "      <td>710</td>\n",
              "      <td>...</td>\n",
              "      <td>NaN</td>\n",
              "      <td>NaN</td>\n",
              "      <td>NaN</td>\n",
              "      <td>NaN</td>\n",
              "      <td>NaN</td>\n",
              "      <td>NaN</td>\n",
              "      <td>NaN</td>\n",
              "      <td>NaN</td>\n",
              "      <td>NaN</td>\n",
              "      <td>NaN</td>\n",
              "    </tr>\n",
              "    <tr>\n",
              "      <th>1</th>\n",
              "      <td>Double_Hamburger</td>\n",
              "      <td>146.0</td>\n",
              "      <td>360</td>\n",
              "      <td>160.0</td>\n",
              "      <td>22</td>\n",
              "      <td>18.0</td>\n",
              "      <td>8.0</td>\n",
              "      <td>0.0</td>\n",
              "      <td>70</td>\n",
              "      <td>520</td>\n",
              "      <td>...</td>\n",
              "      <td>NaN</td>\n",
              "      <td>NaN</td>\n",
              "      <td>NaN</td>\n",
              "      <td>NaN</td>\n",
              "      <td>NaN</td>\n",
              "      <td>NaN</td>\n",
              "      <td>NaN</td>\n",
              "      <td>NaN</td>\n",
              "      <td>NaN</td>\n",
              "      <td>NaN</td>\n",
              "    </tr>\n",
              "    <tr>\n",
              "      <th>2</th>\n",
              "      <td>Double_Cheeseburger</td>\n",
              "      <td>171.0</td>\n",
              "      <td>450</td>\n",
              "      <td>230.0</td>\n",
              "      <td>26</td>\n",
              "      <td>26.0</td>\n",
              "      <td>12.0</td>\n",
              "      <td>1.0</td>\n",
              "      <td>95</td>\n",
              "      <td>960</td>\n",
              "      <td>...</td>\n",
              "      <td>NaN</td>\n",
              "      <td>NaN</td>\n",
              "      <td>NaN</td>\n",
              "      <td>NaN</td>\n",
              "      <td>NaN</td>\n",
              "      <td>NaN</td>\n",
              "      <td>NaN</td>\n",
              "      <td>NaN</td>\n",
              "      <td>NaN</td>\n",
              "      <td>NaN</td>\n",
              "    </tr>\n",
              "    <tr>\n",
              "      <th>3</th>\n",
              "      <td>Buck_Double</td>\n",
              "      <td>158.0</td>\n",
              "      <td>410</td>\n",
              "      <td>200.0</td>\n",
              "      <td>24</td>\n",
              "      <td>22.0</td>\n",
              "      <td>10.0</td>\n",
              "      <td>0.5</td>\n",
              "      <td>85</td>\n",
              "      <td>740</td>\n",
              "      <td>...</td>\n",
              "      <td>NaN</td>\n",
              "      <td>NaN</td>\n",
              "      <td>NaN</td>\n",
              "      <td>NaN</td>\n",
              "      <td>NaN</td>\n",
              "      <td>NaN</td>\n",
              "      <td>NaN</td>\n",
              "      <td>NaN</td>\n",
              "      <td>NaN</td>\n",
              "      <td>NaN</td>\n",
              "    </tr>\n",
              "    <tr>\n",
              "      <th>4</th>\n",
              "      <td>Rodeo_Cheeseburger</td>\n",
              "      <td>128.0</td>\n",
              "      <td>350</td>\n",
              "      <td>160.0</td>\n",
              "      <td>16</td>\n",
              "      <td>17.0</td>\n",
              "      <td>7.0</td>\n",
              "      <td>0.0</td>\n",
              "      <td>45</td>\n",
              "      <td>600</td>\n",
              "      <td>...</td>\n",
              "      <td>NaN</td>\n",
              "      <td>NaN</td>\n",
              "      <td>NaN</td>\n",
              "      <td>NaN</td>\n",
              "      <td>NaN</td>\n",
              "      <td>NaN</td>\n",
              "      <td>NaN</td>\n",
              "      <td>NaN</td>\n",
              "      <td>NaN</td>\n",
              "      <td>NaN</td>\n",
              "    </tr>\n",
              "    <tr>\n",
              "      <th>...</th>\n",
              "      <td>...</td>\n",
              "      <td>...</td>\n",
              "      <td>...</td>\n",
              "      <td>...</td>\n",
              "      <td>...</td>\n",
              "      <td>...</td>\n",
              "      <td>...</td>\n",
              "      <td>...</td>\n",
              "      <td>...</td>\n",
              "      <td>...</td>\n",
              "      <td>...</td>\n",
              "      <td>...</td>\n",
              "      <td>...</td>\n",
              "      <td>...</td>\n",
              "      <td>...</td>\n",
              "      <td>...</td>\n",
              "      <td>...</td>\n",
              "      <td>...</td>\n",
              "      <td>...</td>\n",
              "      <td>...</td>\n",
              "      <td>...</td>\n",
              "    </tr>\n",
              "    <tr>\n",
              "      <th>116</th>\n",
              "      <td>FatFREEMilk(8oz)</td>\n",
              "      <td>NaN</td>\n",
              "      <td>90</td>\n",
              "      <td>0.0</td>\n",
              "      <td>9</td>\n",
              "      <td>0.0</td>\n",
              "      <td>0.0</td>\n",
              "      <td>0.0</td>\n",
              "      <td>5</td>\n",
              "      <td>125</td>\n",
              "      <td>...</td>\n",
              "      <td>NaN</td>\n",
              "      <td>NaN</td>\n",
              "      <td>NaN</td>\n",
              "      <td>NaN</td>\n",
              "      <td>NaN</td>\n",
              "      <td>NaN</td>\n",
              "      <td>NaN</td>\n",
              "      <td>NaN</td>\n",
              "      <td>NaN</td>\n",
              "      <td>NaN</td>\n",
              "    </tr>\n",
              "    <tr>\n",
              "      <th>117</th>\n",
              "      <td>1%LowFatChocolateMilk(8oz)</td>\n",
              "      <td>NaN</td>\n",
              "      <td>160</td>\n",
              "      <td>25.0</td>\n",
              "      <td>8</td>\n",
              "      <td>2.5</td>\n",
              "      <td>1.5</td>\n",
              "      <td>0.0</td>\n",
              "      <td>15</td>\n",
              "      <td>150</td>\n",
              "      <td>...</td>\n",
              "      <td>NaN</td>\n",
              "      <td>NaN</td>\n",
              "      <td>NaN</td>\n",
              "      <td>NaN</td>\n",
              "      <td>NaN</td>\n",
              "      <td>NaN</td>\n",
              "      <td>NaN</td>\n",
              "      <td>NaN</td>\n",
              "      <td>NaN</td>\n",
              "      <td>NaN</td>\n",
              "    </tr>\n",
              "    <tr>\n",
              "      <th>118</th>\n",
              "      <td>VanillaMilkShake12fl oz</td>\n",
              "      <td>NaN</td>\n",
              "      <td>350</td>\n",
              "      <td>100.0</td>\n",
              "      <td>8</td>\n",
              "      <td>11.0</td>\n",
              "      <td>8.0</td>\n",
              "      <td>0.0</td>\n",
              "      <td>40</td>\n",
              "      <td>290</td>\n",
              "      <td>...</td>\n",
              "      <td>NaN</td>\n",
              "      <td>NaN</td>\n",
              "      <td>NaN</td>\n",
              "      <td>NaN</td>\n",
              "      <td>NaN</td>\n",
              "      <td>NaN</td>\n",
              "      <td>NaN</td>\n",
              "      <td>NaN</td>\n",
              "      <td>NaN</td>\n",
              "      <td>NaN</td>\n",
              "    </tr>\n",
              "    <tr>\n",
              "      <th>119</th>\n",
              "      <td>ChocolateMilkShake12fl oz</td>\n",
              "      <td>NaN</td>\n",
              "      <td>400</td>\n",
              "      <td>100.0</td>\n",
              "      <td>8</td>\n",
              "      <td>11.0</td>\n",
              "      <td>8.0</td>\n",
              "      <td>0.0</td>\n",
              "      <td>40</td>\n",
              "      <td>330</td>\n",
              "      <td>...</td>\n",
              "      <td>NaN</td>\n",
              "      <td>NaN</td>\n",
              "      <td>NaN</td>\n",
              "      <td>NaN</td>\n",
              "      <td>NaN</td>\n",
              "      <td>NaN</td>\n",
              "      <td>NaN</td>\n",
              "      <td>NaN</td>\n",
              "      <td>NaN</td>\n",
              "      <td>NaN</td>\n",
              "    </tr>\n",
              "    <tr>\n",
              "      <th>120</th>\n",
              "      <td>StrawberryMilkShake12fl oz</td>\n",
              "      <td>NaN</td>\n",
              "      <td>390</td>\n",
              "      <td>100.0</td>\n",
              "      <td>8</td>\n",
              "      <td>11.0</td>\n",
              "      <td>8.0</td>\n",
              "      <td>0.0</td>\n",
              "      <td>40</td>\n",
              "      <td>290</td>\n",
              "      <td>...</td>\n",
              "      <td>NaN</td>\n",
              "      <td>NaN</td>\n",
              "      <td>NaN</td>\n",
              "      <td>NaN</td>\n",
              "      <td>NaN</td>\n",
              "      <td>NaN</td>\n",
              "      <td>NaN</td>\n",
              "      <td>NaN</td>\n",
              "      <td>NaN</td>\n",
              "      <td>NaN</td>\n",
              "    </tr>\n",
              "  </tbody>\n",
              "</table>\n",
              "<p>121 rows × 33 columns</p>\n",
              "</div>\n",
              "      <button class=\"colab-df-convert\" onclick=\"convertToInteractive('df-cb5a61c8-7f6d-409f-be4a-0bb763cd10c6')\"\n",
              "              title=\"Convert this dataframe to an interactive table.\"\n",
              "              style=\"display:none;\">\n",
              "        \n",
              "  <svg xmlns=\"http://www.w3.org/2000/svg\" height=\"24px\"viewBox=\"0 0 24 24\"\n",
              "       width=\"24px\">\n",
              "    <path d=\"M0 0h24v24H0V0z\" fill=\"none\"/>\n",
              "    <path d=\"M18.56 5.44l.94 2.06.94-2.06 2.06-.94-2.06-.94-.94-2.06-.94 2.06-2.06.94zm-11 1L8.5 8.5l.94-2.06 2.06-.94-2.06-.94L8.5 2.5l-.94 2.06-2.06.94zm10 10l.94 2.06.94-2.06 2.06-.94-2.06-.94-.94-2.06-.94 2.06-2.06.94z\"/><path d=\"M17.41 7.96l-1.37-1.37c-.4-.4-.92-.59-1.43-.59-.52 0-1.04.2-1.43.59L10.3 9.45l-7.72 7.72c-.78.78-.78 2.05 0 2.83L4 21.41c.39.39.9.59 1.41.59.51 0 1.02-.2 1.41-.59l7.78-7.78 2.81-2.81c.8-.78.8-2.07 0-2.86zM5.41 20L4 18.59l7.72-7.72 1.47 1.35L5.41 20z\"/>\n",
              "  </svg>\n",
              "      </button>\n",
              "      \n",
              "  <style>\n",
              "    .colab-df-container {\n",
              "      display:flex;\n",
              "      flex-wrap:wrap;\n",
              "      gap: 12px;\n",
              "    }\n",
              "\n",
              "    .colab-df-convert {\n",
              "      background-color: #E8F0FE;\n",
              "      border: none;\n",
              "      border-radius: 50%;\n",
              "      cursor: pointer;\n",
              "      display: none;\n",
              "      fill: #1967D2;\n",
              "      height: 32px;\n",
              "      padding: 0 0 0 0;\n",
              "      width: 32px;\n",
              "    }\n",
              "\n",
              "    .colab-df-convert:hover {\n",
              "      background-color: #E2EBFA;\n",
              "      box-shadow: 0px 1px 2px rgba(60, 64, 67, 0.3), 0px 1px 3px 1px rgba(60, 64, 67, 0.15);\n",
              "      fill: #174EA6;\n",
              "    }\n",
              "\n",
              "    [theme=dark] .colab-df-convert {\n",
              "      background-color: #3B4455;\n",
              "      fill: #D2E3FC;\n",
              "    }\n",
              "\n",
              "    [theme=dark] .colab-df-convert:hover {\n",
              "      background-color: #434B5C;\n",
              "      box-shadow: 0px 1px 3px 1px rgba(0, 0, 0, 0.15);\n",
              "      filter: drop-shadow(0px 1px 2px rgba(0, 0, 0, 0.3));\n",
              "      fill: #FFFFFF;\n",
              "    }\n",
              "  </style>\n",
              "\n",
              "      <script>\n",
              "        const buttonEl =\n",
              "          document.querySelector('#df-cb5a61c8-7f6d-409f-be4a-0bb763cd10c6 button.colab-df-convert');\n",
              "        buttonEl.style.display =\n",
              "          google.colab.kernel.accessAllowed ? 'block' : 'none';\n",
              "\n",
              "        async function convertToInteractive(key) {\n",
              "          const element = document.querySelector('#df-cb5a61c8-7f6d-409f-be4a-0bb763cd10c6');\n",
              "          const dataTable =\n",
              "            await google.colab.kernel.invokeFunction('convertToInteractive',\n",
              "                                                     [key], {});\n",
              "          if (!dataTable) return;\n",
              "\n",
              "          const docLinkHtml = 'Like what you see? Visit the ' +\n",
              "            '<a target=\"_blank\" href=https://colab.research.google.com/notebooks/data_table.ipynb>data table notebook</a>'\n",
              "            + ' to learn more about interactive tables.';\n",
              "          element.innerHTML = '';\n",
              "          dataTable['output_type'] = 'display_data';\n",
              "          await google.colab.output.renderOutput(dataTable, element);\n",
              "          const docLink = document.createElement('div');\n",
              "          docLink.innerHTML = docLinkHtml;\n",
              "          element.appendChild(docLink);\n",
              "        }\n",
              "      </script>\n",
              "    </div>\n",
              "  </div>\n",
              "  "
            ]
          },
          "metadata": {},
          "execution_count": 6
        }
      ]
    },
    {
      "cell_type": "code",
      "source": [
        "features=['Calories','Sodium(mg)']\n",
        "X=data[features]\n",
        "X"
      ],
      "metadata": {
        "colab": {
          "base_uri": "https://localhost:8080/",
          "height": 424
        },
        "id": "rS39Nq0VJyTv",
        "outputId": "0ece6ffc-7dd0-49ce-c060-7414aa1bb9c6"
      },
      "execution_count": 11,
      "outputs": [
        {
          "output_type": "execute_result",
          "data": {
            "text/plain": [
              "     Calories  Sodium(mg)\n",
              "0         300         710\n",
              "1         360         520\n",
              "2         450         960\n",
              "3         410         740\n",
              "4         350         600\n",
              "..        ...         ...\n",
              "116        90         125\n",
              "117       160         150\n",
              "118       350         290\n",
              "119       400         330\n",
              "120       390         290\n",
              "\n",
              "[121 rows x 2 columns]"
            ],
            "text/html": [
              "\n",
              "  <div id=\"df-cb0b0fcc-be5c-4c40-85d4-a8dd8d891002\">\n",
              "    <div class=\"colab-df-container\">\n",
              "      <div>\n",
              "<style scoped>\n",
              "    .dataframe tbody tr th:only-of-type {\n",
              "        vertical-align: middle;\n",
              "    }\n",
              "\n",
              "    .dataframe tbody tr th {\n",
              "        vertical-align: top;\n",
              "    }\n",
              "\n",
              "    .dataframe thead th {\n",
              "        text-align: right;\n",
              "    }\n",
              "</style>\n",
              "<table border=\"1\" class=\"dataframe\">\n",
              "  <thead>\n",
              "    <tr style=\"text-align: right;\">\n",
              "      <th></th>\n",
              "      <th>Calories</th>\n",
              "      <th>Sodium(mg)</th>\n",
              "    </tr>\n",
              "  </thead>\n",
              "  <tbody>\n",
              "    <tr>\n",
              "      <th>0</th>\n",
              "      <td>300</td>\n",
              "      <td>710</td>\n",
              "    </tr>\n",
              "    <tr>\n",
              "      <th>1</th>\n",
              "      <td>360</td>\n",
              "      <td>520</td>\n",
              "    </tr>\n",
              "    <tr>\n",
              "      <th>2</th>\n",
              "      <td>450</td>\n",
              "      <td>960</td>\n",
              "    </tr>\n",
              "    <tr>\n",
              "      <th>3</th>\n",
              "      <td>410</td>\n",
              "      <td>740</td>\n",
              "    </tr>\n",
              "    <tr>\n",
              "      <th>4</th>\n",
              "      <td>350</td>\n",
              "      <td>600</td>\n",
              "    </tr>\n",
              "    <tr>\n",
              "      <th>...</th>\n",
              "      <td>...</td>\n",
              "      <td>...</td>\n",
              "    </tr>\n",
              "    <tr>\n",
              "      <th>116</th>\n",
              "      <td>90</td>\n",
              "      <td>125</td>\n",
              "    </tr>\n",
              "    <tr>\n",
              "      <th>117</th>\n",
              "      <td>160</td>\n",
              "      <td>150</td>\n",
              "    </tr>\n",
              "    <tr>\n",
              "      <th>118</th>\n",
              "      <td>350</td>\n",
              "      <td>290</td>\n",
              "    </tr>\n",
              "    <tr>\n",
              "      <th>119</th>\n",
              "      <td>400</td>\n",
              "      <td>330</td>\n",
              "    </tr>\n",
              "    <tr>\n",
              "      <th>120</th>\n",
              "      <td>390</td>\n",
              "      <td>290</td>\n",
              "    </tr>\n",
              "  </tbody>\n",
              "</table>\n",
              "<p>121 rows × 2 columns</p>\n",
              "</div>\n",
              "      <button class=\"colab-df-convert\" onclick=\"convertToInteractive('df-cb0b0fcc-be5c-4c40-85d4-a8dd8d891002')\"\n",
              "              title=\"Convert this dataframe to an interactive table.\"\n",
              "              style=\"display:none;\">\n",
              "        \n",
              "  <svg xmlns=\"http://www.w3.org/2000/svg\" height=\"24px\"viewBox=\"0 0 24 24\"\n",
              "       width=\"24px\">\n",
              "    <path d=\"M0 0h24v24H0V0z\" fill=\"none\"/>\n",
              "    <path d=\"M18.56 5.44l.94 2.06.94-2.06 2.06-.94-2.06-.94-.94-2.06-.94 2.06-2.06.94zm-11 1L8.5 8.5l.94-2.06 2.06-.94-2.06-.94L8.5 2.5l-.94 2.06-2.06.94zm10 10l.94 2.06.94-2.06 2.06-.94-2.06-.94-.94-2.06-.94 2.06-2.06.94z\"/><path d=\"M17.41 7.96l-1.37-1.37c-.4-.4-.92-.59-1.43-.59-.52 0-1.04.2-1.43.59L10.3 9.45l-7.72 7.72c-.78.78-.78 2.05 0 2.83L4 21.41c.39.39.9.59 1.41.59.51 0 1.02-.2 1.41-.59l7.78-7.78 2.81-2.81c.8-.78.8-2.07 0-2.86zM5.41 20L4 18.59l7.72-7.72 1.47 1.35L5.41 20z\"/>\n",
              "  </svg>\n",
              "      </button>\n",
              "      \n",
              "  <style>\n",
              "    .colab-df-container {\n",
              "      display:flex;\n",
              "      flex-wrap:wrap;\n",
              "      gap: 12px;\n",
              "    }\n",
              "\n",
              "    .colab-df-convert {\n",
              "      background-color: #E8F0FE;\n",
              "      border: none;\n",
              "      border-radius: 50%;\n",
              "      cursor: pointer;\n",
              "      display: none;\n",
              "      fill: #1967D2;\n",
              "      height: 32px;\n",
              "      padding: 0 0 0 0;\n",
              "      width: 32px;\n",
              "    }\n",
              "\n",
              "    .colab-df-convert:hover {\n",
              "      background-color: #E2EBFA;\n",
              "      box-shadow: 0px 1px 2px rgba(60, 64, 67, 0.3), 0px 1px 3px 1px rgba(60, 64, 67, 0.15);\n",
              "      fill: #174EA6;\n",
              "    }\n",
              "\n",
              "    [theme=dark] .colab-df-convert {\n",
              "      background-color: #3B4455;\n",
              "      fill: #D2E3FC;\n",
              "    }\n",
              "\n",
              "    [theme=dark] .colab-df-convert:hover {\n",
              "      background-color: #434B5C;\n",
              "      box-shadow: 0px 1px 3px 1px rgba(0, 0, 0, 0.15);\n",
              "      filter: drop-shadow(0px 1px 2px rgba(0, 0, 0, 0.3));\n",
              "      fill: #FFFFFF;\n",
              "    }\n",
              "  </style>\n",
              "\n",
              "      <script>\n",
              "        const buttonEl =\n",
              "          document.querySelector('#df-cb0b0fcc-be5c-4c40-85d4-a8dd8d891002 button.colab-df-convert');\n",
              "        buttonEl.style.display =\n",
              "          google.colab.kernel.accessAllowed ? 'block' : 'none';\n",
              "\n",
              "        async function convertToInteractive(key) {\n",
              "          const element = document.querySelector('#df-cb0b0fcc-be5c-4c40-85d4-a8dd8d891002');\n",
              "          const dataTable =\n",
              "            await google.colab.kernel.invokeFunction('convertToInteractive',\n",
              "                                                     [key], {});\n",
              "          if (!dataTable) return;\n",
              "\n",
              "          const docLinkHtml = 'Like what you see? Visit the ' +\n",
              "            '<a target=\"_blank\" href=https://colab.research.google.com/notebooks/data_table.ipynb>data table notebook</a>'\n",
              "            + ' to learn more about interactive tables.';\n",
              "          element.innerHTML = '';\n",
              "          dataTable['output_type'] = 'display_data';\n",
              "          await google.colab.output.renderOutput(dataTable, element);\n",
              "          const docLink = document.createElement('div');\n",
              "          docLink.innerHTML = docLinkHtml;\n",
              "          element.appendChild(docLink);\n",
              "        }\n",
              "      </script>\n",
              "    </div>\n",
              "  </div>\n",
              "  "
            ]
          },
          "metadata": {},
          "execution_count": 11
        }
      ]
    },
    {
      "cell_type": "code",
      "source": [
        "from sklearn.preprocessing import StandardScaler\n",
        "sc = StandardScaler()\n",
        "X[features] = sc.fit_transform(X)\n",
        "EM=GaussianMixture(n_components=3)\n",
        "EM.fit(X)\n",
        "clusters=EM.predict(X)\n",
        "clusters"
      ],
      "metadata": {
        "colab": {
          "base_uri": "https://localhost:8080/"
        },
        "id": "MOdpdSptKmg8",
        "outputId": "808e4539-fae2-48d7-9219-0154bc62f08a"
      },
      "execution_count": 16,
      "outputs": [
        {
          "output_type": "stream",
          "name": "stderr",
          "text": [
            "/usr/local/lib/python3.7/dist-packages/pandas/core/frame.py:3678: SettingWithCopyWarning: \n",
            "A value is trying to be set on a copy of a slice from a DataFrame.\n",
            "Try using .loc[row_indexer,col_indexer] = value instead\n",
            "\n",
            "See the caveats in the documentation: https://pandas.pydata.org/pandas-docs/stable/user_guide/indexing.html#returning-a-view-versus-a-copy\n",
            "  self[col] = igetitem(value, i)\n"
          ]
        },
        {
          "output_type": "execute_result",
          "data": {
            "text/plain": [
              "array([2, 2, 2, 2, 2, 2, 2, 0, 0, 0, 0, 0, 0, 0, 0, 0, 0, 0, 2, 2, 0, 0,\n",
              "       0, 2, 0, 0, 0, 2, 2, 1, 1, 1, 2, 2, 1, 2, 2, 2, 2, 0, 0, 0, 2, 2,\n",
              "       2, 2, 1, 1, 1, 2, 2, 2, 1, 2, 2, 2, 2, 2, 2, 1, 1, 2, 2, 2, 0, 0,\n",
              "       2, 0, 2, 2, 2, 2, 2, 0, 2, 0, 2, 2, 0, 2, 2, 2, 0, 2, 2, 0, 1, 1,\n",
              "       1, 2, 0, 2, 1, 1, 1, 1, 0, 0, 0, 0, 2, 0, 0, 2, 2, 2, 1, 1, 1, 1,\n",
              "       1, 1, 1, 1, 1, 1, 1, 1, 1, 1, 1])"
            ]
          },
          "metadata": {},
          "execution_count": 16
        }
      ]
    },
    {
      "cell_type": "code",
      "source": [
        "#Probability of each point belonging to the cluster\n",
        "cluster_p=EM.predict_proba(X)\n",
        "cluster_p"
      ],
      "metadata": {
        "colab": {
          "base_uri": "https://localhost:8080/"
        },
        "id": "sDJ8P9l_MPrT",
        "outputId": "e404ad52-5c2a-4328-a943-716ac1479e8b"
      },
      "execution_count": 17,
      "outputs": [
        {
          "output_type": "execute_result",
          "data": {
            "text/plain": [
              "array([[2.92850182e-02, 1.61607120e-03, 9.69098911e-01],\n",
              "       [1.46189286e-02, 4.53546045e-01, 5.31835027e-01],\n",
              "       [8.41117362e-02, 5.72487946e-06, 9.15882539e-01],\n",
              "       [4.49456740e-02, 9.71741499e-03, 9.45336911e-01],\n",
              "       [2.21172096e-02, 1.20489547e-01, 8.57393244e-01],\n",
              "       [3.39373020e-02, 5.97403830e-05, 9.66002958e-01],\n",
              "       [2.30633549e-01, 3.88094286e-09, 7.69366447e-01],\n",
              "       [5.14030884e-01, 1.87489994e-05, 4.85950367e-01],\n",
              "       [9.98927481e-01, 5.32503979e-11, 1.07251940e-03],\n",
              "       [9.99999959e-01, 4.40861485e-18, 4.13866860e-08],\n",
              "       [1.00000000e+00, 9.52612395e-12, 1.31688782e-22],\n",
              "       [9.88707095e-01, 2.02225342e-03, 9.27065196e-03],\n",
              "       [9.97277599e-01, 1.14585221e-06, 2.72125536e-03],\n",
              "       [9.99778884e-01, 2.21115380e-04, 1.01657769e-09],\n",
              "       [9.99997135e-01, 2.86442037e-06, 8.87362592e-11],\n",
              "       [9.99999958e-01, 4.24748037e-08, 3.00969873e-20],\n",
              "       [9.99999890e-01, 2.19796840e-20, 1.09970711e-07],\n",
              "       [9.97180505e-01, 7.18913730e-07, 2.81877608e-03],\n",
              "       [1.26045276e-01, 8.03037290e-09, 8.73954716e-01],\n",
              "       [5.70084542e-02, 5.77563694e-09, 9.42991540e-01],\n",
              "       [9.99922374e-01, 1.45389158e-17, 7.76258164e-05],\n",
              "       [7.18904221e-01, 3.25866972e-16, 2.81095779e-01],\n",
              "       [8.90495301e-01, 4.02580500e-13, 1.09504699e-01],\n",
              "       [1.10837399e-01, 2.74851714e-13, 8.89162601e-01],\n",
              "       [9.97392676e-01, 3.32042277e-27, 2.60732353e-03],\n",
              "       [9.86201145e-01, 1.66632667e-18, 1.37988546e-02],\n",
              "       [5.95951426e-01, 7.85612898e-28, 4.04048574e-01],\n",
              "       [9.43273979e-02, 4.48642787e-03, 9.01186174e-01],\n",
              "       [2.64542847e-02, 6.83745181e-03, 9.66708263e-01],\n",
              "       [2.21188634e-03, 9.39405003e-01, 5.83831110e-02],\n",
              "       [4.26085524e-03, 8.16667197e-01, 1.79071948e-01],\n",
              "       [9.19830064e-03, 5.49728973e-01, 4.41072726e-01],\n",
              "       [2.39160554e-02, 1.12729996e-01, 8.63353948e-01],\n",
              "       [5.01889026e-02, 3.60718495e-01, 5.89092603e-01],\n",
              "       [4.20846444e-03, 9.24139503e-01, 7.16520324e-02],\n",
              "       [2.94252769e-02, 7.35116111e-04, 9.69839607e-01],\n",
              "       [5.70084542e-02, 5.77563694e-09, 9.42991540e-01],\n",
              "       [7.14107753e-02, 3.13382102e-06, 9.28586091e-01],\n",
              "       [1.16956824e-01, 1.02027178e-14, 8.83043176e-01],\n",
              "       [5.12269093e-01, 8.47695033e-27, 4.87730907e-01],\n",
              "       [9.99933984e-01, 4.17396250e-28, 6.60155803e-05],\n",
              "       [9.23514760e-01, 8.65165964e-19, 7.64852399e-02],\n",
              "       [1.82762710e-01, 9.23120500e-16, 8.17237290e-01],\n",
              "       [6.51780692e-02, 2.02743262e-08, 9.34821911e-01],\n",
              "       [1.42090588e-01, 1.02037460e-13, 8.57909412e-01],\n",
              "       [5.77193979e-02, 1.84272761e-08, 9.42280584e-01],\n",
              "       [2.75524473e-04, 9.99318186e-01, 4.06289898e-04],\n",
              "       [3.20407930e-04, 9.98625533e-01, 1.05405898e-03],\n",
              "       [9.80606478e-04, 9.80108111e-01, 1.89112827e-02],\n",
              "       [1.06917956e-02, 4.69405572e-01, 5.19902632e-01],\n",
              "       [3.46005439e-02, 1.43416258e-01, 8.21983198e-01],\n",
              "       [1.68036324e-01, 4.07234010e-02, 7.91240275e-01],\n",
              "       [2.68538271e-03, 8.86932225e-01, 1.10382392e-01],\n",
              "       [1.48148219e-02, 3.56627559e-01, 6.28557619e-01],\n",
              "       [6.33163090e-02, 1.34861374e-01, 8.01822317e-01],\n",
              "       [4.31517798e-01, 2.96086254e-02, 5.38873576e-01],\n",
              "       [2.80400916e-02, 9.22530848e-03, 9.62734600e-01],\n",
              "       [1.68590813e-01, 2.86216119e-09, 8.31409184e-01],\n",
              "       [6.99740437e-02, 3.43574117e-09, 9.30025953e-01],\n",
              "       [3.96527908e-04, 9.97923703e-01, 1.67976916e-03],\n",
              "       [3.07442739e-04, 9.99062026e-01, 6.30530991e-04],\n",
              "       [3.75850866e-01, 2.05659644e-05, 6.24128568e-01],\n",
              "       [4.90126396e-02, 1.06485544e-04, 9.50880875e-01],\n",
              "       [2.75850880e-02, 1.08832515e-01, 8.63582397e-01],\n",
              "       [1.00000000e+00, 1.61027692e-39, 1.29285345e-22],\n",
              "       [9.99941084e-01, 5.97018427e-23, 5.89163587e-05],\n",
              "       [1.88269805e-01, 1.75908367e-13, 8.11730195e-01],\n",
              "       [9.99272973e-01, 1.24708566e-26, 7.27026918e-04],\n",
              "       [2.78170274e-02, 3.38565700e-03, 9.68797316e-01],\n",
              "       [3.53685702e-02, 9.79264996e-04, 9.63652165e-01],\n",
              "       [9.92560537e-02, 1.23282878e-06, 9.00742713e-01],\n",
              "       [9.93504686e-02, 1.82650447e-12, 9.00649531e-01],\n",
              "       [3.59520143e-02, 2.12318122e-05, 9.64026754e-01],\n",
              "       [9.79987846e-01, 3.07753727e-16, 2.00121543e-02],\n",
              "       [1.07419623e-01, 5.67984682e-13, 8.92580377e-01],\n",
              "       [7.41763064e-01, 8.02822160e-37, 2.58236936e-01],\n",
              "       [4.68068583e-01, 2.59730697e-14, 5.31931417e-01],\n",
              "       [3.00439107e-01, 2.74677758e-23, 6.99560893e-01],\n",
              "       [6.48032374e-01, 3.06474846e-25, 3.51967626e-01],\n",
              "       [5.79978838e-02, 8.30181340e-09, 9.42002108e-01],\n",
              "       [7.91561353e-02, 9.27986933e-10, 9.20843864e-01],\n",
              "       [2.61848372e-01, 6.47688195e-22, 7.38151628e-01],\n",
              "       [5.55003516e-01, 3.61375522e-20, 4.44996484e-01],\n",
              "       [1.87932545e-01, 1.74688383e-18, 8.12067455e-01],\n",
              "       [1.81374335e-01, 2.46292506e-01, 5.72333159e-01],\n",
              "       [9.88733462e-01, 7.84824334e-04, 1.04817140e-02],\n",
              "       [2.98924697e-03, 9.42856847e-01, 5.41539059e-02],\n",
              "       [1.18085140e-03, 9.93131940e-01, 5.68720812e-03],\n",
              "       [5.61490519e-03, 7.33007191e-01, 2.61377903e-01],\n",
              "       [2.02265640e-01, 1.69262732e-02, 7.80808087e-01],\n",
              "       [9.86379580e-01, 6.17468369e-05, 1.35586728e-02],\n",
              "       [4.02683549e-02, 1.84310474e-04, 9.59547335e-01],\n",
              "       [1.12168796e-02, 7.97790963e-01, 1.90992157e-01],\n",
              "       [1.39875764e-03, 9.29513502e-01, 6.90877408e-02],\n",
              "       [9.27549255e-03, 7.45858432e-01, 2.44866076e-01],\n",
              "       [2.63670755e-01, 6.02125342e-01, 1.34203903e-01],\n",
              "       [8.62431750e-01, 1.34901950e-01, 2.66629995e-03],\n",
              "       [9.18988499e-01, 7.31435408e-06, 8.10041869e-02],\n",
              "       [9.98142982e-01, 2.13211425e-07, 1.85680491e-03],\n",
              "       [9.98043672e-01, 2.42672343e-59, 1.95632762e-03],\n",
              "       [1.65432668e-01, 1.23331917e-17, 8.34567332e-01],\n",
              "       [9.58914043e-01, 8.48723749e-28, 4.10859574e-02],\n",
              "       [9.30467061e-01, 4.65834929e-49, 6.95329389e-02],\n",
              "       [9.66611328e-02, 4.29300217e-10, 9.03338867e-01],\n",
              "       [4.64299828e-02, 5.22928824e-07, 9.53569494e-01],\n",
              "       [5.62182076e-02, 1.41808320e-07, 9.43781651e-01],\n",
              "       [4.41025305e-02, 7.51302178e-01, 2.04595291e-01],\n",
              "       [1.32030248e-02, 7.94293738e-01, 1.92503237e-01],\n",
              "       [3.47333885e-03, 8.39611050e-01, 1.56915611e-01],\n",
              "       [3.37155247e-03, 8.36000098e-01, 1.60628350e-01],\n",
              "       [3.37155247e-03, 8.36000098e-01, 1.60628350e-01],\n",
              "       [8.71582896e-04, 9.66741755e-01, 3.23866624e-02],\n",
              "       [2.76727993e-03, 8.58745106e-01, 1.38487614e-01],\n",
              "       [2.59226482e-03, 8.63938773e-01, 1.33468962e-01],\n",
              "       [4.68735512e-03, 8.14712290e-01, 1.80600355e-01],\n",
              "       [3.20626776e-03, 8.46467709e-01, 1.50326023e-01],\n",
              "       [4.58663654e-04, 9.96435179e-01, 3.10615717e-03],\n",
              "       [6.61266736e-04, 9.81381502e-01, 1.79572313e-02],\n",
              "       [5.66685388e-03, 8.11207826e-01, 1.83125320e-01],\n",
              "       [1.28583648e-02, 7.93674639e-01, 1.93466996e-01],\n",
              "       [1.29328164e-02, 7.72809110e-01, 2.14258073e-01]])"
            ]
          },
          "metadata": {},
          "execution_count": 17
        }
      ]
    },
    {
      "cell_type": "markdown",
      "source": [
        "Silhouette score is used to evaluate the quality of clusters created using clustering algorithms such as K-Means in terms of how well samples are clustered with other samples that are similar to each other. \n",
        "\n",
        "The Silhouette score is calculated for each sample of different clusters."
      ],
      "metadata": {
        "id": "u6JReB_9Uifd"
      }
    },
    {
      "cell_type": "code",
      "source": [
        "from sklearn.metrics import silhouette_score\n",
        "silhouette_score(X,clusters)"
      ],
      "metadata": {
        "colab": {
          "base_uri": "https://localhost:8080/"
        },
        "id": "s8axDn-9NhHg",
        "outputId": "7e977900-c52d-43f3-cdab-0ad37ec07bd7"
      },
      "execution_count": 19,
      "outputs": [
        {
          "output_type": "execute_result",
          "data": {
            "text/plain": [
              "0.3809369146870757"
            ]
          },
          "metadata": {},
          "execution_count": 19
        }
      ]
    },
    {
      "cell_type": "code",
      "source": [
        "import matplotlib.pyplot as plt\n",
        "plt.scatter(X['Calories'],X['Sodium(mg)'],c=clusters,cmap='rainbow')"
      ],
      "metadata": {
        "colab": {
          "base_uri": "https://localhost:8080/",
          "height": 282
        },
        "id": "hsx2zQdIODk0",
        "outputId": "d975ca9d-bfd9-43b1-a87a-008da3de9b52"
      },
      "execution_count": 20,
      "outputs": [
        {
          "output_type": "execute_result",
          "data": {
            "text/plain": [
              "<matplotlib.collections.PathCollection at 0x7f6ef4dd0210>"
            ]
          },
          "metadata": {},
          "execution_count": 20
        },
        {
          "output_type": "display_data",
          "data": {
            "text/plain": [
              "<Figure size 432x288 with 1 Axes>"
            ],
            "image/png": "[encoded data removed]"
          },
          "metadata": {
            "needs_background": "light"
          }
        }
      ]
    },
    {
      "cell_type": "code",
      "source": [
        "#Above graph in different representation\n",
        "from plotnine import *\n",
        "(ggplot(X,aes(x='Calories', y='Sodium(mg)', color=\"clusters\"))+geom_point())"
      ],
      "metadata": {
        "colab": {
          "base_uri": "https://localhost:8080/",
          "height": 464
        },
        "id": "MsvPd10sPV25",
        "outputId": "fac79755-41ca-4e1a-fb2c-937bde8652c2"
      },
      "execution_count": 22,
      "outputs": [
        {
          "output_type": "display_data",
          "data": {
            "text/plain": [
              "<Figure size 640x480 with 1 Axes>"
            ],
            "image/png": "[encoded data removed]"
          },
          "metadata": {}
        },
        {
          "output_type": "execute_result",
          "data": {
            "text/plain": [
              "<ggplot: (8757138385745)>"
            ]
          },
          "metadata": {},
          "execution_count": 22
        }
      ]
    },
    {
      "cell_type": "code",
      "source": [
        "kmeans = KMeans(3)\n",
        "kmeans.fit(X)"
      ],
      "metadata": {
        "colab": {
          "base_uri": "https://localhost:8080/"
        },
        "id": "tcVHvTDHRizs",
        "outputId": "193ea577-c694-48a7-b15e-1be8797a0960"
      },
      "execution_count": 23,
      "outputs": [
        {
          "output_type": "execute_result",
          "data": {
            "text/plain": [
              "KMeans(n_clusters=3)"
            ]
          },
          "metadata": {},
          "execution_count": 23
        }
      ]
    },
    {
      "cell_type": "code",
      "source": [
        "identified_clusters = kmeans.fit_predict(X)\n",
        "identified_clusters"
      ],
      "metadata": {
        "colab": {
          "base_uri": "https://localhost:8080/"
        },
        "id": "qUSzdSHwSH6I",
        "outputId": "b8890049-43ab-4c9e-f5cf-e5e8afdb3faf"
      },
      "execution_count": 25,
      "outputs": [
        {
          "output_type": "execute_result",
          "data": {
            "text/plain": [
              "array([0, 0, 2, 2, 0, 2, 2, 2, 1, 1, 1, 2, 1, 1, 1, 1, 1, 1, 2, 2, 1, 1,\n",
              "       1, 2, 1, 1, 1, 2, 0, 0, 0, 0, 0, 2, 0, 2, 2, 0, 2, 1, 1, 1, 2, 2,\n",
              "       2, 2, 0, 0, 0, 0, 2, 2, 0, 0, 2, 2, 0, 2, 2, 0, 0, 2, 2, 0, 1, 1,\n",
              "       2, 1, 0, 2, 2, 2, 2, 1, 2, 2, 2, 2, 1, 2, 2, 2, 1, 2, 2, 2, 0, 0,\n",
              "       0, 2, 2, 2, 0, 0, 0, 2, 2, 2, 1, 1, 2, 1, 1, 2, 2, 2, 2, 0, 0, 0,\n",
              "       0, 0, 0, 0, 0, 0, 0, 0, 0, 0, 0], dtype=int32)"
            ]
          },
          "metadata": {},
          "execution_count": 25
        }
      ]
    },
    {
      "cell_type": "code",
      "source": [
        "data_with_clusters = data.copy()\n",
        "data_with_clusters['Clusters'] = identified_clusters \n",
        "plt.scatter(data_with_clusters['Calories'],data_with_clusters['Sodium(mg)'],c=data_with_clusters['Clusters'],cmap='rainbow')"
      ],
      "metadata": {
        "colab": {
          "base_uri": "https://localhost:8080/",
          "height": 282
        },
        "id": "7BMcyuGnSMCE",
        "outputId": "54dad973-14f2-45e1-fd79-cd8e61f1035b"
      },
      "execution_count": 27,
      "outputs": [
        {
          "output_type": "execute_result",
          "data": {
            "text/plain": [
              "<matplotlib.collections.PathCollection at 0x7f6ee1d86e90>"
            ]
          },
          "metadata": {},
          "execution_count": 27
        },
        {
          "output_type": "display_data",
          "data": {
            "text/plain": [
              "<Figure size 432x288 with 1 Axes>"
            ],
            "image/png": "[encoded data removed]"
          },
          "metadata": {
            "needs_background": "light"
          }
        }
      ]
    },
    {
      "cell_type": "code",
      "source": [
        "from plotnine import *\n",
        "(ggplot(X,aes(x='Calories', y='Sodium(mg)', color=data_with_clusters['Clusters']))+geom_point())"
      ],
      "metadata": {
        "colab": {
          "base_uri": "https://localhost:8080/",
          "height": 467
        },
        "id": "FbqvXdOLSpfN",
        "outputId": "62bb9ccc-451e-459d-93b1-a610a9d73235"
      },
      "execution_count": 30,
      "outputs": [
        {
          "output_type": "display_data",
          "data": {
            "text/plain": [
              "<Figure size 640x480 with 1 Axes>"
            ],
            "image/png": "[encoded data removed]"
          },
          "metadata": {}
        },
        {
          "output_type": "execute_result",
          "data": {
            "text/plain": [
              "<ggplot: (8757138178269)>"
            ]
          },
          "metadata": {},
          "execution_count": 30
        }
      ]
    },
    {
      "cell_type": "code",
      "source": [
        ""
      ],
      "metadata": {
        "id": "1pKkx3zgTApg"
      },
      "execution_count": null,
      "outputs": []
    }
  ]
}